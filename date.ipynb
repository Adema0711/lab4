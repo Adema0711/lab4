{
 "cells": [
  {
   "cell_type": "code",
   "execution_count": 10,
   "metadata": {},
   "outputs": [
    {
     "name": "stdout",
     "output_type": "stream",
     "text": [
      "23419835.0\n"
     ]
    }
   ],
   "source": [
    "from datetime import datetime\n",
    "format = \"%Y-%m-%d %H:%M:%S\"\n",
    "date1=\"2025-02-15 12:00:00\"\n",
    "date2=\"2025-11-13 13:30:35\"\n",
    "dt1=datetime.strptime(date1,format)\n",
    "dt2=datetime.strptime(date2,format)\n",
    "difference=abs((dt1-dt2).total_seconds())\n",
    "print(difference)"
   ]
  },
  {
   "cell_type": "code",
   "execution_count": 5,
   "metadata": {},
   "outputs": [
    {
     "name": "stdout",
     "output_type": "stream",
     "text": [
      "2025-02-13 12:41:36\n"
     ]
    }
   ],
   "source": [
    "from datetime import datetime,timedelta\n",
    "print(datetime.now().strftime(\"%Y-%m-%d %H:%M:%S\"))"
   ]
  },
  {
   "cell_type": "code",
   "execution_count": 3,
   "metadata": {},
   "outputs": [
    {
     "name": "stdout",
     "output_type": "stream",
     "text": [
      "2025-02-12\n",
      "2025-02-13\n",
      "2025-02-14\n"
     ]
    }
   ],
   "source": [
    "from datetime import date,timedelta\n",
    "print(date.today()-timedelta(days=1))\n",
    "print(date.today())\n",
    "print(date.today()+timedelta(days=1))\n"
   ]
  },
  {
   "cell_type": "code",
   "execution_count": 4,
   "metadata": {},
   "outputs": [
    {
     "name": "stdout",
     "output_type": "stream",
     "text": [
      "2025-02-13\n",
      "2025-02-08\n"
     ]
    }
   ],
   "source": [
    "from datetime import date,timedelta\n",
    "print(date.today())\n",
    "print(date.today()-timedelta(days=5))"
   ]
  }
 ],
 "metadata": {
  "kernelspec": {
   "display_name": "base",
   "language": "python",
   "name": "python3"
  },
  "language_info": {
   "codemirror_mode": {
    "name": "ipython",
    "version": 3
   },
   "file_extension": ".py",
   "mimetype": "text/x-python",
   "name": "python",
   "nbconvert_exporter": "python",
   "pygments_lexer": "ipython3",
   "version": "3.12.7"
  }
 },
 "nbformat": 4,
 "nbformat_minor": 2
}
